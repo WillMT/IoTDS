{
 "cells": [
  {
   "cell_type": "code",
   "execution_count": 1,
   "metadata": {},
   "outputs": [],
   "source": [
    "import paho.mqtt.client as mqtt"
   ]
  },
  {
   "cell_type": "code",
   "execution_count": 2,
   "metadata": {},
   "outputs": [],
   "source": [
    "def on_connect(client, userdata, flags, rc):\n",
    "    '''\n",
    "\n",
    "    :param client:\n",
    "    :param userdata:\n",
    "    :param flags:\n",
    "    :param rc:\n",
    "    :return:\n",
    "    '''\n",
    "\n",
    "    print('connect with rc: {}'.format(rc))\n",
    "\n",
    "    if rc != 0:\n",
    "        print('pub connect failed.')\n",
    "        client.disconnect()\n",
    "\n",
    "def on_disconnect(client, userdata, rc=0):\n",
    "    '''\n",
    "\n",
    "    :param client:\n",
    "    :param userdata:\n",
    "    :param rc:\n",
    "    :return:\n",
    "    '''\n",
    "\n",
    "    print('disconnect with rc: {}'.format(rc))\n",
    "\n",
    "    client.loop_stop()\n",
    "\n",
    "def on_publish(client, userdata, mid):\n",
    "    '''\n",
    "\n",
    "    :param client:\n",
    "    :param userdata:\n",
    "    :param mid:\n",
    "    :return:\n",
    "    '''\n",
    "\n",
    "    print('publish success.')\n",
    "\n",
    "def do_publish(topic, message):\n",
    "\n",
    "    '''\n",
    "    :param topic:\n",
    "    :param message:\n",
    "    :return: publish message via mqtt\n",
    "    '''\n",
    "\n",
    "    client = mqtt.Client()\n",
    "    client.on_connect = on_connect\n",
    "    client.on_disconnect = on_disconnect\n",
    "    client.on_publish = on_publish\n",
    "\n",
    "    client.connect(host='127.0.0.1', port=1883, keepalive=60)\n",
    "    client.loop_start()\n",
    "\n",
    "    try:\n",
    "        client.publish('{}'.format(topic), '{}'.format(message))\n",
    "    except:\n",
    "        print('publish {} exception.'.format(message))\n",
    "    finally:\n",
    "        client.disconnect()"
   ]
  },
  {
   "cell_type": "code",
   "execution_count": null,
   "metadata": {},
   "outputs": [],
   "source": []
  }
 ],
 "metadata": {
  "kernelspec": {
   "display_name": "Python 3",
   "language": "python",
   "name": "python3"
  },
  "language_info": {
   "codemirror_mode": {
    "name": "ipython",
    "version": 3
   },
   "file_extension": ".py",
   "mimetype": "text/x-python",
   "name": "python",
   "nbconvert_exporter": "python",
   "pygments_lexer": "ipython3",
   "version": "3.7.6"
  }
 },
 "nbformat": 4,
 "nbformat_minor": 4
}
